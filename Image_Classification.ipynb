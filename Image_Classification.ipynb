{
  "nbformat": 4,
  "nbformat_minor": 0,
  "metadata": {
    "colab": {
      "name": "Image_Classification_Tutorial.ipynb",
      "provenance": [],
      "include_colab_link": true
    },
    "kernelspec": {
      "name": "python3",
      "display_name": "Python 3"
    },
    "accelerator": "GPU"
  },
  "cells": [
    {
      "cell_type": "markdown",
      "metadata": {
        "id": "view-in-github",
        "colab_type": "text"
      },
      "source": [
        "<a href=\"https://colab.research.google.com/github/dhruvaop/Image-Classification-using-Machine-Learning/blob/ninjas/Image_Classification.ipynb\" target=\"_parent\"><img src=\"https://colab.research.google.com/assets/colab-badge.svg\" alt=\"Open In Colab\"/></a>"
      ]
    },
    {
      "cell_type": "code",
      "metadata": {
        "id": "Weolwx_o-XW0",
        "colab": {
          "base_uri": "https://localhost:8080/",
          "height": 454
        },
        "outputId": "f9910264-1070-4211-8266-eba25d0680ba"
      },
      "source": [
        "# Full tutorial with explanation at https://medium.com/@johnson.doc/create-a-world-class-deep-learning-model-using-google-drive-and-deploy-it-as-an-app-7edc6695bbac \n",
        "# Installing TuriCreate. This is our main package. TuriCreate is open sourced. \n",
        "# You can get more info about TuriCreate at https://github.com/apple/turicreate\n",
        "\n",
        "!pip install turicreate"
      ],
      "execution_count": null,
      "outputs": [
        {
          "output_type": "stream",
          "text": [
            "Requirement already satisfied: turicreate in /usr/local/lib/python3.6/dist-packages\r\n",
            "Requirement already satisfied: pandas>=0.19.0 in /usr/local/lib/python3.6/dist-packages (from turicreate)\r\n",
            "Collecting mxnet<1.0.0,>=0.11 (from turicreate)\n",
            "  Using cached mxnet-0.12.1-py2.py3-none-manylinux1_x86_64.whl\n",
            "Requirement already satisfied: pillow>=3.3.0 in /usr/local/lib/python3.6/dist-packages (from turicreate)\n",
            "Requirement already satisfied: coremltools==0.8 in /usr/local/lib/python3.6/dist-packages (from turicreate)\n",
            "Requirement already satisfied: requests>=2.9.1 in /usr/local/lib/python3.6/dist-packages (from turicreate)\n",
            "Requirement already satisfied: prettytable==0.7.2 in /usr/local/lib/python3.6/dist-packages (from turicreate)\n",
            "Requirement already satisfied: decorator>=4.0.9 in /usr/local/lib/python3.6/dist-packages (from turicreate)\n",
            "Requirement already satisfied: numpy>=1.9.0 in /usr/local/lib/python3.6/dist-packages (from pandas>=0.19.0->turicreate)\n",
            "Requirement already satisfied: pytz>=2011k in /usr/local/lib/python3.6/dist-packages (from pandas>=0.19.0->turicreate)\n",
            "Requirement already satisfied: python-dateutil>=2 in /usr/local/lib/python3.6/dist-packages (from pandas>=0.19.0->turicreate)\n",
            "Requirement already satisfied: graphviz in /usr/local/lib/python3.6/dist-packages (from mxnet<1.0.0,>=0.11->turicreate)\n",
            "Requirement already satisfied: olefile in /usr/local/lib/python3.6/dist-packages (from pillow>=3.3.0->turicreate)\n",
            "Requirement already satisfied: six==1.10.0 in /usr/local/lib/python3.6/dist-packages (from coremltools==0.8->turicreate)\n",
            "Requirement already satisfied: protobuf>=3.1.0 in /usr/local/lib/python3.6/dist-packages (from coremltools==0.8->turicreate)\n",
            "Requirement already satisfied: idna<2.7,>=2.5 in /usr/local/lib/python3.6/dist-packages (from requests>=2.9.1->turicreate)\n",
            "Requirement already satisfied: chardet<3.1.0,>=3.0.2 in /usr/local/lib/python3.6/dist-packages (from requests>=2.9.1->turicreate)\n",
            "Requirement already satisfied: urllib3<1.23,>=1.21.1 in /usr/local/lib/python3.6/dist-packages (from requests>=2.9.1->turicreate)\n",
            "Requirement already satisfied: certifi>=2017.4.17 in /usr/local/lib/python3.6/dist-packages (from requests>=2.9.1->turicreate)\n",
            "Requirement already satisfied: setuptools in /usr/lib/python3/dist-packages (from protobuf>=3.1.0->coremltools==0.8->turicreate)\n",
            "Installing collected packages: mxnet\n",
            "  Found existing installation: mxnet 1.1.0\n",
            "    Uninstalling mxnet-1.1.0:\n",
            "      Successfully uninstalled mxnet-1.1.0\n",
            "Successfully installed mxnet-0.12.1\n"
          ],
          "name": "stdout"
        }
      ]
    },
    {
      "cell_type": "markdown",
      "metadata": {
        "id": "xZ0sRri2FBZD"
      },
      "source": [
        ""
      ]
    },
    {
      "cell_type": "code",
      "metadata": {
        "id": "p6r25vQo_1-8",
        "colab": {
          "base_uri": "https://localhost:8080/",
          "height": 34
        },
        "outputId": "55272b5d-b072-442e-a0d4-9f368437b7d7"
      },
      "source": [
        "# Finding the directory we are in\n",
        "!ls"
      ],
      "execution_count": null,
      "outputs": [
        {
          "output_type": "stream",
          "text": [
            "datalab  drive\r\n"
          ],
          "name": "stdout"
        }
      ]
    },
    {
      "cell_type": "markdown",
      "metadata": {
        "id": "mDm-xDqJKXTL"
      },
      "source": [
        "Next code block will mount your google drive. This will help you to access files stored in your google drive. \n",
        "Druing installation you see a prompt with a link -Please, open the following URL in a web browser: https://accounts.google.com/o ....\n",
        "Click the link. Copy and paste the code from the link in the form field and press enter. \n",
        "Sometime You may have to run this code block twice. I think this is a bug in colab. "
      ]
    },
    {
      "cell_type": "code",
      "metadata": {
        "id": "RK-IDnlMKWy7"
      },
      "source": [
        ""
      ],
      "execution_count": null,
      "outputs": []
    },
    {
      "cell_type": "code",
      "metadata": {
        "id": "MW6q3iD0E_zK",
        "colab": {
          "base_uri": "https://localhost:8080/",
          "height": 135
        },
        "outputId": "dab99b39-21cf-43b8-ad98-31a806b7fc41"
      },
      "source": [
        "!apt-get install -y -qq software-properties-common python-software-properties module-init-tools\n",
        "!add-apt-repository -y ppa:alessandro-strada/ppa 2>&1 > /dev/null\n",
        "!apt-get update -qq 2>&1 > /dev/null\n",
        "!apt-get -y install -qq google-drive-ocamlfuse fuse\n",
        "from google.colab import auth\n",
        "auth.authenticate_user()\n",
        "from oauth2client.client import GoogleCredentials\n",
        "creds = GoogleCredentials.get_application_default()\n",
        "import getpass\n",
        "!google-drive-ocamlfuse -headless -id={creds.client_id} -secret={creds.client_secret} < /dev/null 2>&1 | grep URL\n",
        "vcode = getpass.getpass()\n",
        "!echo {vcode} | google-drive-ocamlfuse -headless -id={creds.client_id} -secret={creds.client_secret}"
      ],
      "execution_count": null,
      "outputs": [
        {
          "output_type": "stream",
          "text": [
            "gpg: keybox '/tmp/tmple_z39tn/pubring.gpg' created\n",
            "gpg: /tmp/tmple_z39tn/trustdb.gpg: trustdb created\n",
            "gpg: key AD5F235DF639B041: public key \"Launchpad PPA for Alessandro Strada\" imported\n",
            "gpg: Total number processed: 1\n",
            "gpg:               imported: 1\n",
            "Warning: apt-key output should not be parsed (stdout is not a terminal)\n",
            "··········\n"
          ],
          "name": "stdout"
        }
      ]
    },
    {
      "cell_type": "code",
      "metadata": {
        "id": "QoafsczbH8Wt",
        "colab": {
          "base_uri": "https://localhost:8080/",
          "height": 51
        },
        "outputId": "56f020a7-72a9-4fd4-a837-93c02bbf6271"
      },
      "source": [
        "# Mount your google drive to access files from it \n",
        "!mkdir -p drive\n",
        "!google-drive-ocamlfuse drive"
      ],
      "execution_count": null,
      "outputs": [
        {
          "output_type": "stream",
          "text": [
            "fuse: mountpoint is not empty\r\n",
            "fuse: if you are sure this is safe, use the 'nonempty' mount option\r\n"
          ],
          "name": "stdout"
        }
      ]
    },
    {
      "cell_type": "code",
      "metadata": {
        "id": "TETZgUL1H8F4"
      },
      "source": [
        "# The image folder that I am using for this tutorial is located in my google drive under 'app' folder\n",
        "# So we need to change directory to the 'app' folder\n",
        "\n",
        "import os\n",
        "os.chdir(\"drive/app\")"
      ],
      "execution_count": null,
      "outputs": []
    },
    {
      "cell_type": "code",
      "metadata": {
        "id": "bKGEoRTkH7y6",
        "colab": {
          "base_uri": "https://localhost:8080/",
          "height": 34
        },
        "outputId": "76129d7b-fe95-4e6a-82e1-dd96f3ed581e"
      },
      "source": [
        "# make sure that we are in the right folder \n",
        "!ls"
      ],
      "execution_count": null,
      "outputs": [
        {
          "output_type": "stream",
          "text": [
            "cats-dogs.sframe  ImageFolder\r\n"
          ],
          "name": "stdout"
        }
      ]
    },
    {
      "cell_type": "code",
      "metadata": {
        "id": "WRB_f_VqIyjh"
      },
      "source": [
        "# importing turicreate as tc\n",
        "\n",
        "import turicreate as tc"
      ],
      "execution_count": null,
      "outputs": []
    },
    {
      "cell_type": "code",
      "metadata": {
        "id": "wgIccMR5Fzzd",
        "colab": {
          "base_uri": "https://localhost:8080/",
          "height": 34
        },
        "outputId": "560a22c0-268b-4476-e46f-2e7345691b56"
      },
      "source": [
        "# Loading the images from ImageFolder in my google drive. This 'ImageFolder' has 2 folders\n",
        "# 'Cat' and 'Dog'\n",
        "# Each folder has about 1000 images\n",
        "# Original images were obtained from https://www.kaggle.com/c/dogs-vs-cats/data\n",
        "# First the whole data set from kaggle website was downloaded to my desktop. \n",
        "# After that I created a folder called 'ImageFolder' in my desktop with sub folders 'Cat' & 'Dog'\n",
        "# Then I copied the first 1000 images of cats and dogs to the individual folders\n",
        "# Later the 'ImageFolder' was uploaded to the 'app' folder in my google drive\n",
        "\n",
        "data = tc.image_analysis.load_images('ImageFolder', with_path=True)"
      ],
      "execution_count": null,
      "outputs": [
        {
          "output_type": "display_data",
          "data": {
            "text/html": [
              "<pre>Read 1146 images in 5.00121 secs\tspeed: 229.145 file/sec</pre>"
            ],
            "text/plain": [
              "Read 1146 images in 5.00121 secs\tspeed: 229.145 file/sec"
            ]
          },
          "metadata": {
            "tags": []
          }
        }
      ]
    },
    {
      "cell_type": "markdown",
      "metadata": {
        "id": "mU2kHLIdNgNJ"
      },
      "source": [
        "It took 5 seconds to process the files. "
      ]
    },
    {
      "cell_type": "code",
      "metadata": {
        "id": "0YNnUEwgGnDk"
      },
      "source": [
        "# Labelling each images in the SFrame using the folder name\n",
        "\n",
        "data['label'] = data['path'].apply(lambda path: 'dog' if '/Dog' in path else 'cat')"
      ],
      "execution_count": null,
      "outputs": []
    },
    {
      "cell_type": "code",
      "metadata": {
        "id": "ZuEWrVXfGrfv",
        "colab": {
          "base_uri": "https://localhost:8080/",
          "height": 406
        },
        "outputId": "6cfb45f3-12a6-4e0e-ca81-f3f8072e1404"
      },
      "source": [
        "#Displaying the first 5 rows in data to make sure that we got everything right \n",
        "\n",
        "data.head()"
      ],
      "execution_count": null,
      "outputs": [
        {
          "output_type": "execute_result",
          "data": {
            "text/html": [
              "<div style=\"max-height:1000px;max-width:1500px;overflow:auto;\"><table frame=\"box\" rules=\"cols\">\n",
              "    <tr>\n",
              "        <th style=\"padding-left: 1em; padding-right: 1em; text-align: center\">path</th>\n",
              "        <th style=\"padding-left: 1em; padding-right: 1em; text-align: center\">image</th>\n",
              "        <th style=\"padding-left: 1em; padding-right: 1em; text-align: center\">label</th>\n",
              "    </tr>\n",
              "    <tr>\n",
              "        <td style=\"padding-left: 1em; padding-right: 1em; text-align: center; vertical-align: top\">/content/drive/app/ImageF<br>older/Cat/cat.34.jpg ...</td>\n",
              "        <td style=\"padding-left: 1em; padding-right: 1em; text-align: center; vertical-align: top\">Height: 499 Width: 375</td>\n",
              "        <td style=\"padding-left: 1em; padding-right: 1em; text-align: center; vertical-align: top\">cat</td>\n",
              "    </tr>\n",
              "    <tr>\n",
              "        <td style=\"padding-left: 1em; padding-right: 1em; text-align: center; vertical-align: top\">/content/drive/app/ImageF<br>older/Dog/dog.837.jpg ...</td>\n",
              "        <td style=\"padding-left: 1em; padding-right: 1em; text-align: center; vertical-align: top\">Height: 400 Width: 419</td>\n",
              "        <td style=\"padding-left: 1em; padding-right: 1em; text-align: center; vertical-align: top\">dog</td>\n",
              "    </tr>\n",
              "    <tr>\n",
              "        <td style=\"padding-left: 1em; padding-right: 1em; text-align: center; vertical-align: top\">/content/drive/app/ImageF<br>older/Dog/dog.356.jpg ...</td>\n",
              "        <td style=\"padding-left: 1em; padding-right: 1em; text-align: center; vertical-align: top\">Height: 375 Width: 499</td>\n",
              "        <td style=\"padding-left: 1em; padding-right: 1em; text-align: center; vertical-align: top\">dog</td>\n",
              "    </tr>\n",
              "    <tr>\n",
              "        <td style=\"padding-left: 1em; padding-right: 1em; text-align: center; vertical-align: top\">/content/drive/app/ImageF<br>older/Dog/dog.215.jpg ...</td>\n",
              "        <td style=\"padding-left: 1em; padding-right: 1em; text-align: center; vertical-align: top\">Height: 500 Width: 349</td>\n",
              "        <td style=\"padding-left: 1em; padding-right: 1em; text-align: center; vertical-align: top\">dog</td>\n",
              "    </tr>\n",
              "    <tr>\n",
              "        <td style=\"padding-left: 1em; padding-right: 1em; text-align: center; vertical-align: top\">/content/drive/app/ImageF<br>older/Dog/dog.804.jpg ...</td>\n",
              "        <td style=\"padding-left: 1em; padding-right: 1em; text-align: center; vertical-align: top\">Height: 287 Width: 301</td>\n",
              "        <td style=\"padding-left: 1em; padding-right: 1em; text-align: center; vertical-align: top\">dog</td>\n",
              "    </tr>\n",
              "    <tr>\n",
              "        <td style=\"padding-left: 1em; padding-right: 1em; text-align: center; vertical-align: top\">/content/drive/app/ImageF<br>older/Dog/dog.393.jpg ...</td>\n",
              "        <td style=\"padding-left: 1em; padding-right: 1em; text-align: center; vertical-align: top\">Height: 375 Width: 499</td>\n",
              "        <td style=\"padding-left: 1em; padding-right: 1em; text-align: center; vertical-align: top\">dog</td>\n",
              "    </tr>\n",
              "    <tr>\n",
              "        <td style=\"padding-left: 1em; padding-right: 1em; text-align: center; vertical-align: top\">/content/drive/app/ImageF<br>older/Cat/cat.812.jpg ...</td>\n",
              "        <td style=\"padding-left: 1em; padding-right: 1em; text-align: center; vertical-align: top\">Height: 375 Width: 499</td>\n",
              "        <td style=\"padding-left: 1em; padding-right: 1em; text-align: center; vertical-align: top\">cat</td>\n",
              "    </tr>\n",
              "    <tr>\n",
              "        <td style=\"padding-left: 1em; padding-right: 1em; text-align: center; vertical-align: top\">/content/drive/app/ImageF<br>older/Cat/cat.594.jpg ...</td>\n",
              "        <td style=\"padding-left: 1em; padding-right: 1em; text-align: center; vertical-align: top\">Height: 499 Width: 375</td>\n",
              "        <td style=\"padding-left: 1em; padding-right: 1em; text-align: center; vertical-align: top\">cat</td>\n",
              "    </tr>\n",
              "    <tr>\n",
              "        <td style=\"padding-left: 1em; padding-right: 1em; text-align: center; vertical-align: top\">/content/drive/app/ImageF<br>older/Dog/dog.315.jpg ...</td>\n",
              "        <td style=\"padding-left: 1em; padding-right: 1em; text-align: center; vertical-align: top\">Height: 431 Width: 362</td>\n",
              "        <td style=\"padding-left: 1em; padding-right: 1em; text-align: center; vertical-align: top\">dog</td>\n",
              "    </tr>\n",
              "    <tr>\n",
              "        <td style=\"padding-left: 1em; padding-right: 1em; text-align: center; vertical-align: top\">/content/drive/app/ImageF<br>older/Cat/cat.130.jpg ...</td>\n",
              "        <td style=\"padding-left: 1em; padding-right: 1em; text-align: center; vertical-align: top\">Height: 500 Width: 422</td>\n",
              "        <td style=\"padding-left: 1em; padding-right: 1em; text-align: center; vertical-align: top\">cat</td>\n",
              "    </tr>\n",
              "</table>\n",
              "[10 rows x 3 columns]<br/>\n",
              "</div>"
            ],
            "text/plain": [
              "Columns:\n",
              "\tpath\tstr\n",
              "\timage\tImage\n",
              "\tlabel\tstr\n",
              "\n",
              "Rows: 10\n",
              "\n",
              "Data:\n",
              "+-------------------------------+------------------------+-------+\n",
              "|              path             |         image          | label |\n",
              "+-------------------------------+------------------------+-------+\n",
              "| /content/drive/app/ImageFo... | Height: 499 Width: 375 |  cat  |\n",
              "| /content/drive/app/ImageFo... | Height: 400 Width: 419 |  dog  |\n",
              "| /content/drive/app/ImageFo... | Height: 375 Width: 499 |  dog  |\n",
              "| /content/drive/app/ImageFo... | Height: 500 Width: 349 |  dog  |\n",
              "| /content/drive/app/ImageFo... | Height: 287 Width: 301 |  dog  |\n",
              "| /content/drive/app/ImageFo... | Height: 375 Width: 499 |  dog  |\n",
              "| /content/drive/app/ImageFo... | Height: 375 Width: 499 |  cat  |\n",
              "| /content/drive/app/ImageFo... | Height: 499 Width: 375 |  cat  |\n",
              "| /content/drive/app/ImageFo... | Height: 431 Width: 362 |  dog  |\n",
              "| /content/drive/app/ImageFo... | Height: 500 Width: 422 |  cat  |\n",
              "+-------------------------------+------------------------+-------+\n",
              "[10 rows x 3 columns]"
            ]
          },
          "metadata": {
            "tags": []
          },
          "execution_count": 13
        }
      ]
    },
    {
      "cell_type": "code",
      "metadata": {
        "id": "1x6lnbn_GuJK"
      },
      "source": [
        "# Saving the data frame to our google drive \n",
        "data.save('cats-dogs.sframe')"
      ],
      "execution_count": null,
      "outputs": []
    },
    {
      "cell_type": "code",
      "metadata": {
        "id": "ub9_7HX6G5SP"
      },
      "source": [
        "# Splitting the image data set into training (80%) and testing (20%) data\n",
        "train_data, test_data = data.random_split(0.8)"
      ],
      "execution_count": null,
      "outputs": []
    },
    {
      "cell_type": "code",
      "metadata": {
        "id": "TImA_m7xOLHJ"
      },
      "source": [
        "# Switching to the root directory in our google virtual machine\n",
        "os.chdir(\"/usr\")"
      ],
      "execution_count": null,
      "outputs": []
    },
    {
      "cell_type": "code",
      "metadata": {
        "id": "DDDdAW_5OdTQ",
        "colab": {
          "base_uri": "https://localhost:8080/",
          "height": 101
        },
        "outputId": "e417dfc8-21ce-4782-e08b-652f5ddcf92b"
      },
      "source": [
        "# installing other packahes to use GPU\n",
        "!apt install libnvrtc8.0"
      ],
      "execution_count": null,
      "outputs": [
        {
          "output_type": "stream",
          "text": [
            "Reading package lists... Done\n",
            "Building dependency tree       \n",
            "Reading state information... Done\n",
            "libnvrtc8.0 is already the newest version (8.0.61-1).\n",
            "0 upgraded, 0 newly installed, 0 to remove and 36 not upgraded.\n"
          ],
          "name": "stdout"
        }
      ]
    },
    {
      "cell_type": "code",
      "metadata": {
        "id": "sMMijcQ8OdF5",
        "colab": {
          "base_uri": "https://localhost:8080/",
          "height": 51
        },
        "outputId": "886cad5b-b5ee-441a-d477-e729c2adfe0f"
      },
      "source": [
        "# uninstalling previosu versions of mxnet\n",
        "!pip uninstall -y mxnet"
      ],
      "execution_count": null,
      "outputs": [
        {
          "output_type": "stream",
          "text": [
            "Uninstalling mxnet-0.12.1:\n",
            "  Successfully uninstalled mxnet-0.12.1\n"
          ],
          "name": "stdout"
        }
      ]
    },
    {
      "cell_type": "code",
      "metadata": {
        "id": "kIePe_6JPRH4",
        "colab": {
          "base_uri": "https://localhost:8080/",
          "height": 202
        },
        "outputId": "3c65567c-f35f-4b76-9ac3-bed7abe78c97"
      },
      "source": [
        "# Installing the latest version of mxnet to work with turi create\n",
        "!pip install mxnet==1.1.0"
      ],
      "execution_count": null,
      "outputs": [
        {
          "output_type": "stream",
          "text": [
            "Collecting mxnet==1.1.0\n",
            "  Using cached mxnet-1.1.0-py2.py3-none-manylinux1_x86_64.whl\n",
            "Requirement already satisfied: numpy<=1.13.3 in ./local/lib/python3.6/dist-packages (from mxnet==1.1.0)\n",
            "Requirement already satisfied: requests==2.18.4 in ./local/lib/python3.6/dist-packages (from mxnet==1.1.0)\n",
            "Requirement already satisfied: graphviz==0.8.1 in ./local/lib/python3.6/dist-packages (from mxnet==1.1.0)\n",
            "Requirement already satisfied: urllib3<1.23,>=1.21.1 in ./local/lib/python3.6/dist-packages (from requests==2.18.4->mxnet==1.1.0)\n",
            "Requirement already satisfied: certifi>=2017.4.17 in ./local/lib/python3.6/dist-packages (from requests==2.18.4->mxnet==1.1.0)\n",
            "Requirement already satisfied: idna<2.7,>=2.5 in ./local/lib/python3.6/dist-packages (from requests==2.18.4->mxnet==1.1.0)\n",
            "Requirement already satisfied: chardet<3.1.0,>=3.0.2 in ./local/lib/python3.6/dist-packages (from requests==2.18.4->mxnet==1.1.0)\n",
            "Installing collected packages: mxnet\n",
            "Successfully installed mxnet-1.1.0\n"
          ],
          "name": "stdout"
        }
      ]
    },
    {
      "cell_type": "code",
      "metadata": {
        "id": "ZNLCKas7OUs5"
      },
      "source": [
        "# making sure that mxnet is working\n",
        "# If you get an erroe here, you need to fix it before going forward\n",
        "import mxnet as m2"
      ],
      "execution_count": null,
      "outputs": []
    },
    {
      "cell_type": "code",
      "metadata": {
        "id": "alAuHnRvG6Vr",
        "colab": {
          "base_uri": "https://localhost:8080/",
          "height": 608
        },
        "outputId": "45b33b99-bac4-442e-d7de-3e0150337e1f"
      },
      "source": [
        "# Automatically pick the right model based on your data.\n",
        "# Note: Because the dataset is large, model creation may take hours.\n",
        "\n",
        "model = tc.image_classifier.create(train_data, target='label')"
      ],
      "execution_count": null,
      "outputs": [
        {
          "output_type": "stream",
          "text": [
            "Resizing images...\n",
            "Performing feature extraction on resized images...\n",
            "Completed  512/1591\n",
            "Completed 1024/1591\n",
            "Completed 1536/1591\n",
            "Completed 1591/1591\n",
            "PROGRESS: Creating a validation set from 5 percent of training data. This may take a while.\n",
            "          You can set ``validation_set=None`` to disable validation tracking.\n",
            "\n"
          ],
          "name": "stdout"
        },
        {
          "output_type": "display_data",
          "data": {
            "text/html": [
              "<pre>WARNING: The number of feature dimensions in this problem is very large in comparison with the number of examples. Unless an appropriate regularization value is set, this model may not provide accurate predictions for a validation/test set.</pre>"
            ],
            "text/plain": [
              "WARNING: The number of feature dimensions in this problem is very large in comparison with the number of examples. Unless an appropriate regularization value is set, this model may not provide accurate predictions for a validation/test set."
            ]
          },
          "metadata": {
            "tags": []
          }
        },
        {
          "output_type": "display_data",
          "data": {
            "text/html": [
              "<pre>WARNING: Detected extremely low variance for feature(s) '__image_features__' because all entries are nearly the same.\n",
              "Proceeding with model training using all features. If the model does not provide results of adequate quality, exclude the above mentioned feature(s) from the input dataset.</pre>"
            ],
            "text/plain": [
              "WARNING: Detected extremely low variance for feature(s) '__image_features__' because all entries are nearly the same.\n",
              "Proceeding with model training using all features. If the model does not provide results of adequate quality, exclude the above mentioned feature(s) from the input dataset."
            ]
          },
          "metadata": {
            "tags": []
          }
        },
        {
          "output_type": "display_data",
          "data": {
            "text/html": [
              "<pre>Logistic regression:</pre>"
            ],
            "text/plain": [
              "Logistic regression:"
            ]
          },
          "metadata": {
            "tags": []
          }
        },
        {
          "output_type": "display_data",
          "data": {
            "text/html": [
              "<pre>--------------------------------------------------------</pre>"
            ],
            "text/plain": [
              "--------------------------------------------------------"
            ]
          },
          "metadata": {
            "tags": []
          }
        },
        {
          "output_type": "display_data",
          "data": {
            "text/html": [
              "<pre>Number of examples          : 1521</pre>"
            ],
            "text/plain": [
              "Number of examples          : 1521"
            ]
          },
          "metadata": {
            "tags": []
          }
        },
        {
          "output_type": "display_data",
          "data": {
            "text/html": [
              "<pre>Number of classes           : 2</pre>"
            ],
            "text/plain": [
              "Number of classes           : 2"
            ]
          },
          "metadata": {
            "tags": []
          }
        },
        {
          "output_type": "display_data",
          "data": {
            "text/html": [
              "<pre>Number of feature columns   : 1</pre>"
            ],
            "text/plain": [
              "Number of feature columns   : 1"
            ]
          },
          "metadata": {
            "tags": []
          }
        },
        {
          "output_type": "display_data",
          "data": {
            "text/html": [
              "<pre>Number of unpacked features : 2048</pre>"
            ],
            "text/plain": [
              "Number of unpacked features : 2048"
            ]
          },
          "metadata": {
            "tags": []
          }
        },
        {
          "output_type": "display_data",
          "data": {
            "text/html": [
              "<pre>Number of coefficients    : 2049</pre>"
            ],
            "text/plain": [
              "Number of coefficients    : 2049"
            ]
          },
          "metadata": {
            "tags": []
          }
        },
        {
          "output_type": "display_data",
          "data": {
            "text/html": [
              "<pre>Starting L-BFGS</pre>"
            ],
            "text/plain": [
              "Starting L-BFGS"
            ]
          },
          "metadata": {
            "tags": []
          }
        },
        {
          "output_type": "display_data",
          "data": {
            "text/html": [
              "<pre>--------------------------------------------------------</pre>"
            ],
            "text/plain": [
              "--------------------------------------------------------"
            ]
          },
          "metadata": {
            "tags": []
          }
        },
        {
          "output_type": "display_data",
          "data": {
            "text/html": [
              "<pre>+-----------+----------+-----------+--------------+-------------------+---------------------+</pre>"
            ],
            "text/plain": [
              "+-----------+----------+-----------+--------------+-------------------+---------------------+"
            ]
          },
          "metadata": {
            "tags": []
          }
        },
        {
          "output_type": "display_data",
          "data": {
            "text/html": [
              "<pre>| Iteration | Passes   | Step size | Elapsed Time | Training-accuracy | Validation-accuracy |</pre>"
            ],
            "text/plain": [
              "| Iteration | Passes   | Step size | Elapsed Time | Training-accuracy | Validation-accuracy |"
            ]
          },
          "metadata": {
            "tags": []
          }
        },
        {
          "output_type": "display_data",
          "data": {
            "text/html": [
              "<pre>+-----------+----------+-----------+--------------+-------------------+---------------------+</pre>"
            ],
            "text/plain": [
              "+-----------+----------+-----------+--------------+-------------------+---------------------+"
            ]
          },
          "metadata": {
            "tags": []
          }
        },
        {
          "output_type": "display_data",
          "data": {
            "text/html": [
              "<pre>| 1         | 3        | 0.000657  | 1.398946     | 0.984221          | 0.985714            |</pre>"
            ],
            "text/plain": [
              "| 1         | 3        | 0.000657  | 1.398946     | 0.984221          | 0.985714            |"
            ]
          },
          "metadata": {
            "tags": []
          }
        },
        {
          "output_type": "display_data",
          "data": {
            "text/html": [
              "<pre>| 2         | 6        | 0.500000  | 1.900617     | 0.982249          | 0.985714            |</pre>"
            ],
            "text/plain": [
              "| 2         | 6        | 0.500000  | 1.900617     | 0.982249          | 0.985714            |"
            ]
          },
          "metadata": {
            "tags": []
          }
        },
        {
          "output_type": "display_data",
          "data": {
            "text/html": [
              "<pre>| 3         | 7        | 0.500000  | 2.140063     | 0.982249          | 0.985714            |</pre>"
            ],
            "text/plain": [
              "| 3         | 7        | 0.500000  | 2.140063     | 0.982249          | 0.985714            |"
            ]
          },
          "metadata": {
            "tags": []
          }
        },
        {
          "output_type": "display_data",
          "data": {
            "text/html": [
              "<pre>| 4         | 8        | 0.500000  | 2.384643     | 0.991453          | 1.000000            |</pre>"
            ],
            "text/plain": [
              "| 4         | 8        | 0.500000  | 2.384643     | 0.991453          | 1.000000            |"
            ]
          },
          "metadata": {
            "tags": []
          }
        },
        {
          "output_type": "display_data",
          "data": {
            "text/html": [
              "<pre>| 5         | 9        | 0.500000  | 2.632157     | 0.990796          | 1.000000            |</pre>"
            ],
            "text/plain": [
              "| 5         | 9        | 0.500000  | 2.632157     | 0.990796          | 1.000000            |"
            ]
          },
          "metadata": {
            "tags": []
          }
        },
        {
          "output_type": "display_data",
          "data": {
            "text/html": [
              "<pre>| 6         | 10       | 0.500000  | 2.880737     | 0.992110          | 1.000000            |</pre>"
            ],
            "text/plain": [
              "| 6         | 10       | 0.500000  | 2.880737     | 0.992110          | 1.000000            |"
            ]
          },
          "metadata": {
            "tags": []
          }
        },
        {
          "output_type": "display_data",
          "data": {
            "text/html": [
              "<pre>| 10        | 15       | 1.000000  | 3.989484     | 0.998028          | 1.000000            |</pre>"
            ],
            "text/plain": [
              "| 10        | 15       | 1.000000  | 3.989484     | 0.998028          | 1.000000            |"
            ]
          },
          "metadata": {
            "tags": []
          }
        },
        {
          "output_type": "display_data",
          "data": {
            "text/html": [
              "<pre>+-----------+----------+-----------+--------------+-------------------+---------------------+</pre>"
            ],
            "text/plain": [
              "+-----------+----------+-----------+--------------+-------------------+---------------------+"
            ]
          },
          "metadata": {
            "tags": []
          }
        },
        {
          "output_type": "display_data",
          "data": {
            "text/html": [
              "<pre>TERMINATED: Iteration limit reached.</pre>"
            ],
            "text/plain": [
              "TERMINATED: Iteration limit reached."
            ]
          },
          "metadata": {
            "tags": []
          }
        },
        {
          "output_type": "display_data",
          "data": {
            "text/html": [
              "<pre>This model may not be optimal. To improve it, consider increasing `max_iterations`.</pre>"
            ],
            "text/plain": [
              "This model may not be optimal. To improve it, consider increasing `max_iterations`."
            ]
          },
          "metadata": {
            "tags": []
          }
        }
      ]
    },
    {
      "cell_type": "markdown",
      "metadata": {
        "id": "GjhQrTTzRxjN"
      },
      "source": [
        "Took only about 7 minutes to do this with GPU!"
      ]
    },
    {
      "cell_type": "code",
      "metadata": {
        "id": "VzziTY2aG-A5"
      },
      "source": [
        "# storing the prediction \n",
        "\n",
        "predictions = model.predict(test_data)"
      ],
      "execution_count": null,
      "outputs": []
    },
    {
      "cell_type": "code",
      "metadata": {
        "id": "clbk_WE7R-q2",
        "colab": {
          "base_uri": "https://localhost:8080/",
          "height": 34
        },
        "outputId": "532e6f7b-b946-40f2-e149-e528b8ec5ae7"
      },
      "source": [
        "# Evaluating the model \n",
        "\n",
        "metrics = model.evaluate(test_data)\n",
        "print(metrics['accuracy'])"
      ],
      "execution_count": null,
      "outputs": [
        {
          "output_type": "stream",
          "text": [
            "0.9902676399026764\n"
          ],
          "name": "stdout"
        }
      ]
    },
    {
      "cell_type": "code",
      "metadata": {
        "id": "38gNPKZRSrhL",
        "colab": {
          "base_uri": "https://localhost:8080/",
          "height": 202
        },
        "outputId": "cb122aee-ff2e-4202-eb2b-82f2d24ed1ce"
      },
      "source": [
        "# Printing confusion matrix\n",
        "\n",
        "print (\"Confusion Matrix : \\n%s\" % metrics['confusion_matrix'])"
      ],
      "execution_count": null,
      "outputs": [
        {
          "output_type": "stream",
          "text": [
            "Confusion Matrix : \n",
            "+--------------+-----------------+-------+\n",
            "| target_label | predicted_label | count |\n",
            "+--------------+-----------------+-------+\n",
            "|     dog      |       cat       |   2   |\n",
            "|     cat      |       dog       |   2   |\n",
            "|     cat      |       cat       |  195  |\n",
            "|     dog      |       dog       |  212  |\n",
            "+--------------+-----------------+-------+\n",
            "[4 rows x 3 columns]\n",
            "\n"
          ],
          "name": "stdout"
        }
      ]
    },
    {
      "cell_type": "code",
      "metadata": {
        "id": "Q4GoAum5TP4v"
      },
      "source": [
        "# Save the model for later use in Turi Create\n",
        "model.save('mymodel.model')"
      ],
      "execution_count": null,
      "outputs": []
    },
    {
      "cell_type": "code",
      "metadata": {
        "id": "XPdqOGADURz2"
      },
      "source": [
        "# Export for use in Core ML\n",
        "model.export_coreml('MyCustomImageClassifier.mlmodel')"
      ],
      "execution_count": null,
      "outputs": []
    },
    {
      "cell_type": "code",
      "metadata": {
        "id": "6X51lMk0U04m",
        "colab": {
          "base_uri": "https://localhost:8080/",
          "height": 67
        },
        "outputId": "ce63d66c-a6c0-49d2-a3cf-4c61336743c0"
      },
      "source": [
        "!ls"
      ],
      "execution_count": null,
      "outputs": [
        {
          "output_type": "stream",
          "text": [
            "MyCustomImageClassifier.mlmodel  games\t  lib64-nvidia\t mymodel.txt\t sbin\r\n",
            "bin\t\t\t\t include  local\t\t mymodel2.h5\t share\r\n",
            "cats-dogs.sframe\t\t lib\t  mymodel.model  mymodel2.model  src\r\n"
          ],
          "name": "stdout"
        }
      ]
    },
    {
      "cell_type": "code",
      "metadata": {
        "id": "O6PUln9hWcBQ"
      },
      "source": [
        "# Downloading the model for use in Xcode\n",
        "\n",
        "from google.colab import files\n",
        "\n",
        "files.download('MyCustomImageClassifier.mlmodel')"
      ],
      "execution_count": null,
      "outputs": []
    },
    {
      "cell_type": "code",
      "metadata": {
        "id": "lKbWi2xqc1J3"
      },
      "source": [
        ""
      ],
      "execution_count": null,
      "outputs": []
    }
  ]
}